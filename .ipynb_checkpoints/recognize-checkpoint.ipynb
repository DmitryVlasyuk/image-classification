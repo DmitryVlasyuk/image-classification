{
 "cells": [
  {
   "cell_type": "code",
   "execution_count": 1,
   "id": "a7e78eb7-d5d8-4d15-98af-34bd7d2c8c9f",
   "metadata": {},
   "outputs": [],
   "source": [
    "import tensorflow as tf\n",
    "import numpy as np\n",
    "from tensorflow.keras.models import load_model\n",
    "import pickle\n",
    "import os\n",
    "import sys\n",
    "import cv2"
   ]
  },
  {
   "cell_type": "code",
   "execution_count": 2,
   "id": "547cd3e1-cbc6-43ae-bf31-f0c33a807ac1",
   "metadata": {},
   "outputs": [
    {
     "name": "stdout",
     "output_type": "stream",
     "text": [
      "WARNING:tensorflow:Using a while_loop for converting RngReadAndSkip cause there is no registered converter for this op.\n",
      "WARNING:tensorflow:Using a while_loop for converting Bitcast cause there is no registered converter for this op.\n",
      "WARNING:tensorflow:Using a while_loop for converting Bitcast cause there is no registered converter for this op.\n",
      "WARNING:tensorflow:Using a while_loop for converting StatelessRandomUniformV2 cause there is no registered converter for this op.\n",
      "WARNING:tensorflow:Using a while_loop for converting ImageProjectiveTransformV3 cause there is no registered converter for this op.\n",
      "WARNING:tensorflow:Using a while_loop for converting RngReadAndSkip cause there is no registered converter for this op.\n",
      "WARNING:tensorflow:Using a while_loop for converting Bitcast cause there is no registered converter for this op.\n",
      "WARNING:tensorflow:Using a while_loop for converting Bitcast cause there is no registered converter for this op.\n",
      "WARNING:tensorflow:Using a while_loop for converting StatelessRandomUniformV2 cause there is no registered converter for this op.\n",
      "WARNING:tensorflow:Using a while_loop for converting ImageProjectiveTransformV3 cause there is no registered converter for this op.\n",
      "WARNING:tensorflow:Using a while_loop for converting RngReadAndSkip cause there is no registered converter for this op.\n",
      "WARNING:tensorflow:Using a while_loop for converting Bitcast cause there is no registered converter for this op.\n",
      "WARNING:tensorflow:Using a while_loop for converting Bitcast cause there is no registered converter for this op.\n",
      "WARNING:tensorflow:Using a while_loop for converting StatelessRandomUniformV2 cause there is no registered converter for this op.\n",
      "WARNING:tensorflow:Using a while_loop for converting ImageProjectiveTransformV3 cause there is no registered converter for this op.\n",
      "WARNING:tensorflow:Using a while_loop for converting RngReadAndSkip cause there is no registered converter for this op.\n",
      "WARNING:tensorflow:Using a while_loop for converting Bitcast cause there is no registered converter for this op.\n",
      "WARNING:tensorflow:Using a while_loop for converting Bitcast cause there is no registered converter for this op.\n",
      "WARNING:tensorflow:Using a while_loop for converting StatelessRandomUniformV2 cause there is no registered converter for this op.\n",
      "WARNING:tensorflow:Using a while_loop for converting ImageProjectiveTransformV3 cause there is no registered converter for this op.\n"
     ]
    }
   ],
   "source": [
    "model = load_model(os.path.join('models','food_products.h5'))"
   ]
  },
  {
   "cell_type": "code",
   "execution_count": 3,
   "id": "c4fe210b-827a-4889-a570-5033d103418f",
   "metadata": {},
   "outputs": [],
   "source": [
    "class_names = pickle.loads(open('models/labels.pickle', \"rb\").read())"
   ]
  },
  {
   "cell_type": "code",
   "execution_count": 4,
   "id": "b1abe4aa-1d25-4b34-b6fe-7e60cf486522",
   "metadata": {},
   "outputs": [],
   "source": [
    "img_path = sys.argv[1]"
   ]
  },
  {
   "cell_type": "code",
   "execution_count": 5,
   "id": "6dbbff53-3f4d-42e4-8637-ce4663cc70ea",
   "metadata": {},
   "outputs": [
    {
     "name": "stdout",
     "output_type": "stream",
     "text": [
      "1/1 [==============================] - 0s 173ms/step\n"
     ]
    }
   ],
   "source": [
    "img = tf.keras.utils.load_img(img_path, target_size=(100,100))\n",
    "img = tf.keras.utils.img_to_array(img)\n",
    "img = tf.expand_dims(img, 0)\n",
    "predictions = model.predict(img)\n",
    "score = tf.nn.softmax(predictions[0])"
   ]
  },
  {
   "cell_type": "code",
   "execution_count": 6,
   "id": "3aad037c-1638-41fe-99a8-c157a1a71018",
   "metadata": {},
   "outputs": [
    {
     "name": "stdout",
     "output_type": "stream",
     "text": [
      "This image most likely belongs to bananas\n"
     ]
    }
   ],
   "source": [
    "print(\n",
    "    \"This image most likely belongs to {}\"\n",
    "    .format(class_names[np.argmax(score)])\n",
    ")"
   ]
  },
  {
   "cell_type": "code",
   "execution_count": 7,
   "id": "a5aa8f34-ba36-4001-b5c9-1f4df188f21a",
   "metadata": {},
   "outputs": [],
   "source": [
    "file_name = os.path.basename(img_path).split('.')[0]\n",
    "file_extension = os.path.splitext(img_path)[1][1:]\n",
    "\n",
    "file_path='kb/{}.scs'.format(file_name)\n",
    "\n",
    "f = open(file_path, \"w\")\n",
    "\n",
    "txt=\"{}\\n<- concept_image;\\n<= nrel_includes: concept_{};\\n<- rrel_key_sc_element: ...\\n(*\\n<-sc_illustration;;\\n<=nrel_sc_text_translation: ...\\n(*\\n-> rrel_example: \\\"{}\\\" (*\\n=> nrel_format: format_{};;\\n *);;\\n*);;\\n*);\\n<- sc_node_not_relation;;\".format(file_name,class_names[np.argmax(score)],img_path,file_extension)"
   ]
  },
  {
   "cell_type": "code",
   "execution_count": 8,
   "id": "2636b398-3c81-44e5-ae4a-59f7f165504b",
   "metadata": {},
   "outputs": [],
   "source": [
    "f.write(txt)\n",
    "print('file {}.scs created'.format(file_name))\n",
    "f.close()"
   ]
  }
 ],
 "metadata": {
  "kernelspec": {
   "display_name": "Python 3 (ipykernel)",
   "language": "python",
   "name": "python3"
  },
  "language_info": {
   "codemirror_mode": {
    "name": "ipython",
    "version": 3
   },
   "file_extension": ".py",
   "mimetype": "text/x-python",
   "name": "python",
   "nbconvert_exporter": "python",
   "pygments_lexer": "ipython3",
   "version": "3.9.7"
  }
 },
 "nbformat": 4,
 "nbformat_minor": 5
}
